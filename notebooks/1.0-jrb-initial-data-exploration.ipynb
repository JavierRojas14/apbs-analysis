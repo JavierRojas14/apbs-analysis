{
 "cells": [
  {
   "cell_type": "code",
   "execution_count": 31,
   "metadata": {},
   "outputs": [],
   "source": [
    "import pandas as pd\n",
    "import numpy as np\n",
    "\n",
    "import matplotlib.pyplot as plt\n",
    "import seaborn as sns\n",
    "\n",
    "import MDAnalysis as mda\n",
    "from MDAnalysis.analysis import lineardensity, rms\n",
    "import nglview as nv\n",
    "\n",
    "import glob\n",
    "import subprocess\n",
    "\n",
    "COMANDO_A_LANZAR_APBS = \"/Applications/PyMOL.app/Contents/bin/apbs\"\n",
    "\n",
    "sns.set_style()\n",
    "plt.rcParams['figure.figsize'] = (12, 6)"
   ]
  },
  {
   "cell_type": "code",
   "execution_count": 24,
   "metadata": {},
   "outputs": [],
   "source": [
    "# Carga las dinamicas y selecciona las proteinas\n",
    "u = mda.Universe(\"../data/raw/Prot_Lig_ions.prmtop\", \"../data/raw/TY_DDAT_ions.nc\")\n",
    "\n",
    "# Se quiere seleccionar la proteina, y exportar sus coordenadas para cada frame de la dinamica\n",
    "protein = u.select_atoms(\"protein\")"
   ]
  },
  {
   "cell_type": "code",
   "execution_count": 43,
   "metadata": {},
   "outputs": [
    {
     "name": "stderr",
     "output_type": "stream",
     "text": [
      "/Users/javierrojas/anaconda3/envs/apbs-analysis/lib/python3.12/site-packages/MDAnalysis/coordinates/PDB.py:1153: UserWarning: Found no information for attr: 'altLocs' Using default value of ' '\n",
      "  warnings.warn(\"Found no information for attr: '{}'\"\n",
      "/Users/javierrojas/anaconda3/envs/apbs-analysis/lib/python3.12/site-packages/MDAnalysis/coordinates/PDB.py:1153: UserWarning: Found no information for attr: 'icodes' Using default value of ' '\n",
      "  warnings.warn(\"Found no information for attr: '{}'\"\n",
      "/Users/javierrojas/anaconda3/envs/apbs-analysis/lib/python3.12/site-packages/MDAnalysis/coordinates/PDB.py:1153: UserWarning: Found no information for attr: 'chainIDs' Using default value of ''\n",
      "  warnings.warn(\"Found no information for attr: '{}'\"\n",
      "/Users/javierrojas/anaconda3/envs/apbs-analysis/lib/python3.12/site-packages/MDAnalysis/coordinates/PDB.py:1153: UserWarning: Found no information for attr: 'occupancies' Using default value of '1.0'\n",
      "  warnings.warn(\"Found no information for attr: '{}'\"\n",
      "/Users/javierrojas/anaconda3/envs/apbs-analysis/lib/python3.12/site-packages/MDAnalysis/coordinates/PDB.py:1153: UserWarning: Found no information for attr: 'tempfactors' Using default value of '0.0'\n",
      "  warnings.warn(\"Found no information for attr: '{}'\"\n",
      "/Users/javierrojas/anaconda3/envs/apbs-analysis/lib/python3.12/site-packages/MDAnalysis/coordinates/PDB.py:1153: UserWarning: Found no information for attr: 'record_types' Using default value of 'ATOM'\n",
      "  warnings.warn(\"Found no information for attr: '{}'\"\n",
      "/Users/javierrojas/anaconda3/envs/apbs-analysis/lib/python3.12/site-packages/MDAnalysis/coordinates/PDB.py:1153: UserWarning: Found no information for attr: 'formalcharges' Using default value of '0'\n",
      "  warnings.warn(\"Found no information for attr: '{}'\"\n",
      "/Users/javierrojas/anaconda3/envs/apbs-analysis/lib/python3.12/site-packages/MDAnalysis/coordinates/PDB.py:1200: UserWarning: Found missing chainIDs. Corresponding atoms will use value of 'X'\n",
      "  warnings.warn(\"Found missing chainIDs.\"\n"
     ]
    }
   ],
   "source": [
    "# Guarda los archivos en formato PQR\n",
    "for ts in u.trajectory[::10000]:\n",
    "    protein.write(f\"../data/interim/frame_{ts.frame}.pdb\")\n",
    "    "
   ]
  },
  {
   "cell_type": "markdown",
   "metadata": {},
   "source": [
    "# Calcular APBS para cada frame"
   ]
  },
  {
   "cell_type": "code",
   "execution_count": 103,
   "metadata": {},
   "outputs": [],
   "source": [
    "import glob\n",
    "import subprocess"
   ]
  },
  {
   "cell_type": "code",
   "execution_count": 112,
   "metadata": {},
   "outputs": [],
   "source": [
    "RUTA_ARCHIVOS = \"/Users/javierrojas/Documents/Personal/apbs-analysis/data/interim\"\n",
    "RUTA_PYMOL = \"/Applications/PyMOL.app/Contents/bin/pymol -c\""
   ]
  },
  {
   "cell_type": "code",
   "execution_count": 113,
   "metadata": {},
   "outputs": [],
   "source": [
    "ARCHIVOS_DINAMICA = glob.glob(f\"{RUTA_ARCHIVOS}/*.pdb\")\n",
    "ARCHIVOS_DINAMICA = sorted(ARCHIVOS_DINAMICA)"
   ]
  },
  {
   "cell_type": "code",
   "execution_count": 114,
   "metadata": {},
   "outputs": [],
   "source": [
    "for i, ruta_archivo in enumerate(ARCHIVOS_DINAMICA):\n",
    "    # Extrae el nombre del archivo y el numero del frame a guardar\n",
    "    nombre_archivo = ruta_archivo.split(\"/\")[-1].split(\".\")[0]\n",
    "    numero_archivo = nombre_archivo.split(\"_\")[-1]\n",
    "\n",
    "    # Modifica el script a correr\n",
    "    script_a_correr = f\"\"\"from pmg_tk.startup.apbs_gui.creating import pdb2pqr_cli\n",
    "from pmg_tk.startup.apbs_gui.electrostatics import map_new_apbs\n",
    "\n",
    "cmd.load(\"{ruta_archivo}\")\n",
    "\n",
    "# Convierte a pqr\n",
    "pdb2pqr_cli(\"prepared{numero_archivo}\", \"{nombre_archivo}\", options=[\"--ff\", \"amber\"])\n",
    "# Calcula APBS\n",
    "map_new_apbs(\"apbs_map{numero_archivo}\", \"prepared{numero_archivo}\")\n",
    "\n",
    "# Guarda mapa\n",
    "cmd.save(\"{RUTA_ARCHIVOS}/prepared{numero_archivo}\")\n",
    "\"\"\"\n",
    "\n",
    "    # Guarda el script para calcular APBS de frame\n",
    "    with open(f\"../data/external/script.py\", \"w\") as file:\n",
    "        file.write(script_a_correr)\n",
    "        \n",
    "    \n",
    "    # Escribe el comando a correr y lo corre en la consola\n",
    "    COMANDO_A_CORRER = f\"{RUTA_PYMOL} ../data/external/script.py\"\n",
    "    process = subprocess.Popen(\n",
    "        COMANDO_A_CORRER, shell=True, stdout=subprocess.PIPE, stderr=subprocess.PIPE\n",
    "    )\n",
    "    \n",
    "    if i == 0:\n",
    "        break"
   ]
  },
  {
   "cell_type": "code",
   "execution_count": null,
   "metadata": {},
   "outputs": [],
   "source": []
  }
 ],
 "metadata": {
  "kernelspec": {
   "display_name": "apbs-analysis",
   "language": "python",
   "name": "python3"
  },
  "language_info": {
   "codemirror_mode": {
    "name": "ipython",
    "version": 3
   },
   "file_extension": ".py",
   "mimetype": "text/x-python",
   "name": "python",
   "nbconvert_exporter": "python",
   "pygments_lexer": "ipython3",
   "version": "3.12.1"
  }
 },
 "nbformat": 4,
 "nbformat_minor": 2
}
